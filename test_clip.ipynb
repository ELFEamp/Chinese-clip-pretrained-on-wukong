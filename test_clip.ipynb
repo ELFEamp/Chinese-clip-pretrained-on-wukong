{
 "cells": [
  {
   "cell_type": "code",
   "execution_count": 1,
   "id": "f289c589-360a-4c98-81f2-2aacaaf1cd81",
   "metadata": {},
   "outputs": [],
   "source": [
    "import torch\n",
    "from CLIP.clip import clip\n",
    "\n",
    "# 用参数映射后的预训练权重\n",
    "model_path = '/mnt/qinziwei/wukong_vit_b_32_clip.pt'\n",
    "model, preprocess = clip.load(model_path)"
   ]
  },
  {
   "cell_type": "code",
   "execution_count": 2,
   "id": "da5bf7f6-91d8-4f27-af53-93a089bc1d99",
   "metadata": {},
   "outputs": [],
   "source": [
    "import os\n",
    "from simple_tokenizer import set_tokenizer_lang, tokenize"
   ]
  },
  {
   "cell_type": "code",
   "execution_count": 3,
   "id": "413de23b-4bf4-404a-95bf-5c73fe84d0a7",
   "metadata": {},
   "outputs": [],
   "source": [
    "set_tokenizer_lang('zh', 32)\n",
    "token = torch.tensor(tokenize(['苏州金鸡湖畔的夜景好美啊！！','蛋糕，甜点，面包','iphone11真不错','易烊千玺好帅啊']))"
   ]
  },
  {
   "cell_type": "code",
   "execution_count": 4,
   "id": "813d50ed-2eec-4171-b27a-fc409e6201d3",
   "metadata": {},
   "outputs": [],
   "source": [
    "img_file_path = './test_img_set/test{}.jpeg'"
   ]
  },
  {
   "cell_type": "code",
   "execution_count": 5,
   "id": "af791b4d-74f6-4d96-a755-e9ef27d912a3",
   "metadata": {},
   "outputs": [],
   "source": [
    "from PIL import Image\n",
    "img_list = []\n",
    "for i in range(1,6):\n",
    "    path = img_file_path.format(i)\n",
    "    img_list.append(preprocess(Image.open(path)).unsqueeze(0))"
   ]
  },
  {
   "cell_type": "code",
   "execution_count": 6,
   "id": "cf15e7a0-144b-4510-a81f-84e5d006790c",
   "metadata": {},
   "outputs": [],
   "source": [
    "import numpy as np\n",
    "imgs = torch.tensor(np.concatenate(img_list))"
   ]
  },
  {
   "cell_type": "code",
   "execution_count": 7,
   "id": "818292ad-3b85-4a82-b78d-94f08a3c7725",
   "metadata": {},
   "outputs": [
    {
     "data": {
      "text/plain": [
       "torch.Size([5, 3, 224, 224])"
      ]
     },
     "execution_count": 7,
     "metadata": {},
     "output_type": "execute_result"
    }
   ],
   "source": [
    "imgs.size()"
   ]
  },
  {
   "cell_type": "code",
   "execution_count": 8,
   "id": "d5029210-4e16-495f-ad2b-2db7c10858b3",
   "metadata": {
    "tags": []
   },
   "outputs": [],
   "source": [
    "device = torch.device('cuda:2')\n",
    "model = model.to(device)"
   ]
  },
  {
   "cell_type": "code",
   "execution_count": 9,
   "id": "1bab19dc-0f1e-4da2-a87b-f78a5f3d4777",
   "metadata": {},
   "outputs": [],
   "source": [
    "imgs = imgs.to(device)\n",
    "token = token.to(device)"
   ]
  },
  {
   "cell_type": "code",
   "execution_count": 10,
   "id": "c463f5ae-b900-4570-a103-b853b13013e7",
   "metadata": {},
   "outputs": [
    {
     "name": "stdout",
     "output_type": "stream",
     "text": [
      "Label probs: [[9.9854e-01 2.7776e-04 1.1740e-03 2.1577e-04]\n",
      " [5.2295e-01 1.0796e-02 2.4707e-01 2.1899e-01]\n",
      " [1.4839e-02 9.6191e-01 1.3092e-02 1.0155e-02]\n",
      " [5.2071e-04 9.3520e-05 9.9805e-01 1.5421e-03]\n",
      " [1.6880e-03 6.7322e-02 5.5046e-03 9.2529e-01]]\n"
     ]
    }
   ],
   "source": [
    "with torch.no_grad():\n",
    "    image_features = model.encode_image(imgs)\n",
    "    text_features = model.encode_text(token)\n",
    "    \n",
    "    logits_per_image, logits_per_text = model(imgs, token)\n",
    "    probs = logits_per_image.softmax(dim=-1).cpu().numpy()\n",
    "\n",
    "print(\"Label probs:\", probs)  # prints: [[0.9927937  0.00421068 0.00299572]]"
   ]
  },
  {
   "cell_type": "code",
   "execution_count": 11,
   "id": "b2d411b6-7724-4b28-800e-5f1fc1f28174",
   "metadata": {},
   "outputs": [
    {
     "data": {
      "text/plain": [
       "torch.Size([5, 512])"
      ]
     },
     "execution_count": 11,
     "metadata": {},
     "output_type": "execute_result"
    }
   ],
   "source": [
    "image_features.shape"
   ]
  },
  {
   "cell_type": "code",
   "execution_count": 134,
   "id": "96ed290a-b511-4c48-a952-0ff3573fe8f9",
   "metadata": {},
   "outputs": [
    {
     "data": {
      "text/plain": [
       "tensor([[12.4141,  4.2266,  5.6680,  3.9746],\n",
       "        [ 6.4883,  2.6074,  5.7383,  5.6172],\n",
       "        [ 6.4609, 10.6328,  6.3359,  6.0820],\n",
       "        [ 5.5586,  3.8418, 13.1172,  6.6445],\n",
       "        [ 2.1309,  5.8164,  3.3125,  8.4375]], device='cuda:2',\n",
       "       dtype=torch.float16)"
      ]
     },
     "execution_count": 134,
     "metadata": {},
     "output_type": "execute_result"
    }
   ],
   "source": [
    "logits_per_image"
   ]
  },
  {
   "cell_type": "code",
   "execution_count": 135,
   "id": "307c473e-095d-4fc6-8697-be2e44770275",
   "metadata": {},
   "outputs": [
    {
     "data": {
      "text/plain": [
       "<AxesSubplot:>"
      ]
     },
     "execution_count": 135,
     "metadata": {},
     "output_type": "execute_result"
    },
    {
     "data": {
      "image/png": "[encoded data removed]",
      "text/plain": [
       "<Figure size 432x288 with 2 Axes>"
      ]
     },
     "metadata": {},
     "output_type": "display_data"
    }
   ],
   "source": [
    "import seaborn as sns\n",
    "%matplotlib inline\n",
    "sns.set(font_scale=1.5)\n",
    "sns.heatmap(data=probs,square=True) "
   ]
  },
  {
   "cell_type": "code",
   "execution_count": null,
   "id": "ee3e25b5-50bf-403b-bb42-85a84d5553c5",
   "metadata": {},
   "outputs": [],
   "source": []
  },
  {
   "cell_type": "code",
   "execution_count": null,
   "id": "8b07d9a2-5027-4a51-8db9-6acdb2eab355",
   "metadata": {},
   "outputs": [],
   "source": []
  }
 ],
 "metadata": {
  "kernelspec": {
   "display_name": "traits",
   "language": "python",
   "name": "traits"
  },
  "language_info": {
   "codemirror_mode": {
    "name": "ipython",
    "version": 3
   },
   "file_extension": ".py",
   "mimetype": "text/x-python",
   "name": "python",
   "nbconvert_exporter": "python",
   "pygments_lexer": "ipython3",
   "version": "3.6.13"
  }
 },
 "nbformat": 4,
 "nbformat_minor": 5
}
